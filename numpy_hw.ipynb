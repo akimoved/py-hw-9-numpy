{
 "cells": [
  {
   "cell_type": "markdown",
   "metadata": {},
   "source": [
    "# Homework Numpy"
   ]
  },
  {
   "cell_type": "code",
   "execution_count": 2,
   "metadata": {},
   "outputs": [],
   "source": [
    "import numpy as np"
   ]
  },
  {
   "cell_type": "markdown",
   "metadata": {},
   "source": [
    "## Excercise 1"
   ]
  },
  {
   "cell_type": "code",
   "execution_count": 18,
   "metadata": {},
   "outputs": [
    {
     "data": {
      "text/plain": [
       "array([9, 8, 7, 6, 5, 4, 3, 2, 1, 0])"
      ]
     },
     "execution_count": 18,
     "metadata": {},
     "output_type": "execute_result"
    }
   ],
   "source": [
    "def make_reversed_array(n):\n",
    "    list_ = [i for i in range(0,n)]\n",
    "    list_.reverse()\n",
    "    return np.array(list_)\n",
    "    \n",
    "make_reversed_array(10)"
   ]
  },
  {
   "cell_type": "markdown",
   "metadata": {},
   "source": [
    "## Excercise 2"
   ]
  },
  {
   "cell_type": "code",
   "execution_count": 19,
   "metadata": {},
   "outputs": [
    {
     "name": "stdout",
     "output_type": "stream",
     "text": [
      "[[9 0 0 0 0 0 0 0 0 0]\n",
      " [0 8 0 0 0 0 0 0 0 0]\n",
      " [0 0 7 0 0 0 0 0 0 0]\n",
      " [0 0 0 6 0 0 0 0 0 0]\n",
      " [0 0 0 0 5 0 0 0 0 0]\n",
      " [0 0 0 0 0 4 0 0 0 0]\n",
      " [0 0 0 0 0 0 3 0 0 0]\n",
      " [0 0 0 0 0 0 0 2 0 0]\n",
      " [0 0 0 0 0 0 0 0 1 0]\n",
      " [0 0 0 0 0 0 0 0 0 0]]\n",
      "45\n"
     ]
    }
   ],
   "source": [
    "a = np.diagflat(make_reversed_array(10))\n",
    "\n",
    "print(a)\n",
    "print(np.trace(a))"
   ]
  },
  {
   "cell_type": "markdown",
   "metadata": {},
   "source": [
    "## Excercise 3"
   ]
  },
  {
   "cell_type": "markdown",
   "metadata": {},
   "source": [
    "Решите систему уравнений:\n",
    "$$\n",
    "\\begin{cases} \n",
    "    4x + 2y + z = 4 \\\\ \n",
    "    1x + 3y = 12 \\\\ \n",
    "    5y + 4z = -3 \n",
    "\\end{cases} \n",
    "$$"
   ]
  },
  {
   "cell_type": "code",
   "execution_count": 49,
   "metadata": {},
   "outputs": [
    {
     "name": "stdout",
     "output_type": "stream",
     "text": [
      "x=0.47\n",
      "y=3.84\n",
      "z=-5.56\n"
     ]
    }
   ],
   "source": [
    "coefs = [[4, 2, 1],[1, 3, 0],[0, 5, 4],[4, 12, -3]]\n",
    "\n",
    "def solve_lin_sys(coef_list):\n",
    "    \"\"\"\n",
    "    Функция решает заданную СЛАУ без проверки на наличие решения (!) матричным методом.\n",
    "    coef_list представляет собой список из списков коэфффициентов при неизвестных, а последний список - обязательно свободные члены.\n",
    "    \"\"\"\n",
    "    \n",
    "    left_matrix = np.array(coef_list[0:len(coef_list) - 1])\n",
    "    right_matrix = np.array(coef_list[-1])\n",
    "    \n",
    "    return np.linalg.solve(left_matrix, right_matrix)\n",
    "    \n",
    "print('x={}\\ny={}\\nz={}'.format(round(solve_lin_sys(coefs)[0],2), \n",
    "                                round(solve_lin_sys(coefs)[1],2), \n",
    "                                round(solve_lin_sys(coefs)[2],2)))"
   ]
  },
  {
   "cell_type": "markdown",
   "metadata": {},
   "source": [
    "## Excercise 4"
   ]
  },
  {
   "cell_type": "code",
   "execution_count": 20,
   "metadata": {},
   "outputs": [],
   "source": [
    "users_stats = np.array(\n",
    "    [\n",
    "        [2, 1, 0, 0, 0, 0],\n",
    "        [1, 1, 2, 1, 0, 0],\n",
    "        [2, 0, 1, 0, 0, 0],\n",
    "        [1, 1, 2, 1, 0, 1],\n",
    "        [0, 0, 1, 2, 0, 0],\n",
    "        [0, 0, 0, 0, 0, 5],\n",
    "        [1, 0, 0, 0, 0, 0],\n",
    "        [1, 0, 0, 0, 0, 0],\n",
    "        [0, 0, 0, 1, 1, 3],\n",
    "        [1, 0, 0, 2, 1, 4]\n",
    "    ], \n",
    "    np.int32\n",
    ")"
   ]
  },
  {
   "cell_type": "code",
   "execution_count": 21,
   "metadata": {},
   "outputs": [
    {
     "data": {
      "text/plain": [
       "2"
      ]
     },
     "execution_count": 21,
     "metadata": {},
     "output_type": "execute_result"
    }
   ],
   "source": [
    "next_user_stats = np.array([0, 1, 2, 0, 0, 0])\n",
    "\n",
    "def max_similar_user(new_user, stats=users_stats):\n",
    "    \"\"\"Функция возвращает номер пользователя максимально похожего на нового по методу косинусной близости\"\"\"\n",
    "    \n",
    "    cosine = lambda a, b: np.dot(a, b) / (np.linalg.norm(a) * np.linalg.norm(b))\n",
    "    similarity_dict = {i+1: cosine(new_user, line) for i, line in enumerate(users_stats)} # словарь вида {id: cos}\n",
    "    for user_id, cos in similarity_dict.items():\n",
    "        if cos == max(similarity_dict.values()):\n",
    "            return user_id\n",
    "\n",
    "max_similar_user(next_user_stats)"
   ]
  }
 ],
 "metadata": {
  "kernelspec": {
   "display_name": "Python 3",
   "language": "python",
   "name": "python3"
  },
  "language_info": {
   "codemirror_mode": {
    "name": "ipython",
    "version": 3
   },
   "file_extension": ".py",
   "mimetype": "text/x-python",
   "name": "python",
   "nbconvert_exporter": "python",
   "pygments_lexer": "ipython3",
   "version": "3.8.5"
  }
 },
 "nbformat": 4,
 "nbformat_minor": 4
}
